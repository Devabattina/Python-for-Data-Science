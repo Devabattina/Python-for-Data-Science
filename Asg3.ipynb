{
  "nbformat": 4,
  "nbformat_minor": 0,
  "metadata": {
    "colab": {
      "provenance": []
    },
    "kernelspec": {
      "name": "python3",
      "display_name": "Python 3"
    },
    "language_info": {
      "name": "python"
    }
  },
  "cells": [
    {
      "cell_type": "code",
      "execution_count": 3,
      "metadata": {
        "colab": {
          "base_uri": "https://localhost:8080/"
        },
        "id": "hvc5zdMGJaBU",
        "outputId": "6820b532-857c-4d97-f724-15e993f35663"
      },
      "outputs": [
        {
          "output_type": "stream",
          "name": "stdout",
          "text": [
            "h\n"
          ]
        }
      ],
      "source": [
        "'''1 . Print the input text without vowels using List comprehensions\n",
        "\n",
        "input = 'hai'\n",
        "Expected output = h '''\n",
        "\n",
        "print(\"\".join([i for i in 'hai' if i not in 'aeiou']))"
      ]
    },
    {
      "cell_type": "code",
      "source": [
        "\n",
        "'''2.Print only vowels from the text using List comprehensions\n",
        "input = data\n",
        "Expected output = aa '''\n",
        "\n",
        "print(\"\".join([i for i in \"data\" if i in \"aeiou\"]))\n",
        ""
      ],
      "metadata": {
        "colab": {
          "base_uri": "https://localhost:8080/"
        },
        "id": "iggjF_dyJ31I",
        "outputId": "6026bab0-c41f-457e-c0ad-1dd2e742a73e"
      },
      "execution_count": 4,
      "outputs": [
        {
          "output_type": "stream",
          "name": "stdout",
          "text": [
            "aa\n"
          ]
        }
      ]
    },
    {
      "cell_type": "code",
      "source": [
        "'''3. print each value from the list with its index\n",
        "input = [10,11,50,34]\n",
        "Expected output = [100 , 111 , 502 , 343] '''\n",
        "\n",
        "def value(s):\n",
        "  for i in s:\n",
        "    print(str(i)+str(s.index(i)))\n",
        "\n",
        "s = [10,11,50,34]\n",
        "value(s)"
      ],
      "metadata": {
        "colab": {
          "base_uri": "https://localhost:8080/"
        },
        "id": "J5pJUJ5V75ed",
        "outputId": "6452cc53-2e7d-472f-e70f-d82990aa9705"
      },
      "execution_count": 12,
      "outputs": [
        {
          "output_type": "stream",
          "name": "stdout",
          "text": [
            "100\n",
            "111\n",
            "502\n",
            "343\n"
          ]
        }
      ]
    },
    {
      "cell_type": "code",
      "source": [
        "\n",
        "#4.This is a Python Program to print all integers that aren’t divisible by either 2 or 3 and lies between 1 and 50.\n",
        "\n",
        "def num_not_divisible_by_2_or_3():\n",
        "  for i in range(1,51):\n",
        "    if i % 2 != 0 and i % 3 != 0:\n",
        "      print(i,end=\" ,\")\n",
        "\n",
        "num_not_divisible_by_2_or_3()\n"
      ],
      "metadata": {
        "id": "ybC4vKeRLLN3",
        "colab": {
          "base_uri": "https://localhost:8080/"
        },
        "outputId": "53a9e6ba-b8c3-46ce-9b5c-7351cddc61fa"
      },
      "execution_count": 14,
      "outputs": [
        {
          "output_type": "stream",
          "name": "stdout",
          "text": [
            "1 ,5 ,7 ,11 ,13 ,17 ,19 ,23 ,25 ,29 ,31 ,35 ,37 ,41 ,43 ,47 ,49 ,"
          ]
        }
      ]
    },
    {
      "cell_type": "code",
      "source": [
        "#5.The program takes in an integer and prints the smallest divisor of the integer.\n",
        "\n",
        "n = 10\n",
        "div = []\n",
        "for i in range(1,n+1):\n",
        "  if n % i == 0:\n",
        "    div.append(i)\n",
        "print(\"Divisors of n :\", div)\n",
        "print(\"Smallest divisor of n :\", min(div))\n",
        "\n"
      ],
      "metadata": {
        "colab": {
          "base_uri": "https://localhost:8080/"
        },
        "id": "IhM5D4818Amp",
        "outputId": "46b0f416-58ea-40f4-a53f-604af46ee631"
      },
      "execution_count": 15,
      "outputs": [
        {
          "output_type": "stream",
          "name": "stdout",
          "text": [
            "Divisors of n : [1, 2, 5, 10]\n",
            "Smallest divisor of n : 1\n"
          ]
        }
      ]
    },
    {
      "cell_type": "code",
      "source": [
        "#7 . Write a Python program that takes input from the user and displays that input back in upper and lower cases.\n",
        "\n",
        "s = \"THE QUICK BROWN FOX\"\n",
        "print(s.lower())\n",
        "\n",
        "\n"
      ],
      "metadata": {
        "id": "B8ZJSqcOCDvz",
        "colab": {
          "base_uri": "https://localhost:8080/"
        },
        "outputId": "d03982c6-286a-402a-b820-b37feb1c6385"
      },
      "execution_count": 16,
      "outputs": [
        {
          "output_type": "stream",
          "name": "stdout",
          "text": [
            "the quick brown fox\n"
          ]
        }
      ]
    },
    {
      "cell_type": "code",
      "source": [
        "'''8 . Write a Python program to remove spaces from a given string\n",
        "\n",
        "input = united states\n",
        "output = unitedstates   '''\n",
        "\n",
        "s = \"united states\"\n",
        "a = s.replace(\" \" , \"\")\n",
        "print(a)"
      ],
      "metadata": {
        "colab": {
          "base_uri": "https://localhost:8080/"
        },
        "id": "rNghowe68JFW",
        "outputId": "ff9f8ad5-3c5c-444e-fa74-97ba80846dde"
      },
      "execution_count": 17,
      "outputs": [
        {
          "output_type": "stream",
          "name": "stdout",
          "text": [
            "unitedstates\n"
          ]
        }
      ]
    },
    {
      "cell_type": "code",
      "source": [
        "# 9 . Write a Python program to capitalize first and last letters of each word of a given string\n",
        "\n",
        "s = \"python programming\"\n",
        "res = \"\"\n",
        "for i in s.split():\n",
        "    res += i[0].upper() + i[1:-1] + i[-1].upper() + \" \"\n",
        "print(res)\n",
        "\n"
      ],
      "metadata": {
        "colab": {
          "base_uri": "https://localhost:8080/"
        },
        "id": "ZTW_TKk38M_n",
        "outputId": "d2a500de-92e2-4fa3-9d0d-cc635bf2f928"
      },
      "execution_count": 18,
      "outputs": [
        {
          "output_type": "stream",
          "name": "stdout",
          "text": [
            "PythoN ProgramminG \n"
          ]
        }
      ]
    },
    {
      "cell_type": "code",
      "source": [
        "# 10 . write a python program to find length of a string but should not use len keyword.\n",
        "\n",
        "s = \"Data Science\"\n",
        "l = 0\n",
        "for i in s:\n",
        "  l = l + 1\n",
        "print(\"length of s : \",l)"
      ],
      "metadata": {
        "colab": {
          "base_uri": "https://localhost:8080/"
        },
        "id": "oXrDwoSD8Rox",
        "outputId": "00bce90e-1c35-4c17-da73-15d5a20bf916"
      },
      "execution_count": 19,
      "outputs": [
        {
          "output_type": "stream",
          "name": "stdout",
          "text": [
            "length of s :  12\n"
          ]
        }
      ]
    },
    {
      "cell_type": "code",
      "source": [],
      "metadata": {
        "id": "bU_s7MlL8y5A"
      },
      "execution_count": null,
      "outputs": []
    }
  ]
}